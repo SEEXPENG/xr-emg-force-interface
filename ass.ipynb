{
 "cells": [
  {
   "cell_type": "code",
   "execution_count": 2,
   "metadata": {},
   "outputs": [],
   "source": [
    "from torch import nn\n",
    "import torch\n",
    "import torch.nn.functional as F\n",
    "\n",
    "\n",
    "class VisionTransformer(nn.Module):\n",
    "\n",
    "    def __init__(self, in_channels: int, out_channels: int, hidden_size: int, patch_size: int, num_layers: int):\n",
    "        super().__init__()\n",
    "        self.positional_embeds = nn.Embedding(100000, hidden_size)\n",
    "        self.register_buffer(\"positional_ids\", torch.arange(100000).unsqueeze(0))\n",
    "        self.patch_conv = nn.Conv2d(in_channels, hidden_size, patch_size, stride=patch_size)\n",
    "        self.patch_deconv = nn.ConvTranspose2d(hidden_size, out_channels, patch_size, stride=patch_size)\n",
    "        self.model = nn.TransformerEncoder(\n",
    "            nn.TransformerEncoderLayer(\n",
    "            hidden_size,\n",
    "            hidden_size // 64,\n",
    "            hidden_size * 8 // 3,\n",
    "            activation=F.silu,\n",
    "            batch_first=True,\n",
    "            norm_first=True,\n",
    "            ),\n",
    "            num_layers,\n",
    "        )\n",
    "\n",
    "    def forward(self, x: torch.Tensor) -> torch.Tensor:\n",
    "        hidden = self.patch_conv(x)\n",
    "        n_seq = hidden.shape[2] * hidden.shape[3]\n",
    "        pos_embeds = self.positional_embeds(self.positional_ids[:, :n_seq]).expand(hidden.shape[0], -1, -1)\n",
    "        output = self.model(hidden.flatten(2).transpose(1, 2) + pos_embeds).transpose(-1, -2).view_as(hidden)\n",
    "        output = self.patch_deconv(output)\n",
    "        return output"
   ]
  },
  {
   "cell_type": "code",
   "execution_count": 1,
   "metadata": {},
   "outputs": [],
   "source": [
    "from torch.utils.data import Dataset\n",
    "import numpy as np\n",
    "import torch\n",
    "import os\n",
    "\n",
    "\n",
    "class EMGDataset(Dataset):\n",
    "\n",
    "    def __init__(self, root_dir):\n",
    "        super(EMGDataset, self).__init__()\n",
    "        self.emg = np.load(os.path.join(root_dir, 'emg_train.npy'))\n",
    "        self.force = np.load(os.path.join(root_dir, 'force_train.npy'))\n",
    "        self.force_class = np.load(os.path.join(root_dir, 'force_class_train.npy'))\n",
    "\n",
    "    def __len__(self):\n",
    "        return len(self.emg)\n",
    "\n",
    "    def __getitem__(self, idx):\n",
    "        emg = self.emg[idx]\n",
    "        force = self.force[idx]\n",
    "        force_class = self.force_class[idx]\n",
    "        return torch.from_numpy(emg), torch.from_numpy(force), torch.from_numpy(force_class)\n"
   ]
  },
  {
   "cell_type": "code",
   "execution_count": 8,
   "metadata": {},
   "outputs": [
    {
     "data": {
      "text/plain": [
       "torch.Size([64, 8, 1248])"
      ]
     },
     "execution_count": 8,
     "metadata": {},
     "output_type": "execute_result"
    }
   ],
   "source": [
    "root_dir = os.path.join(os.getcwd(), 'Dataset')\n",
    "emg = np.load(os.path.join(root_dir, 'emg_train.npy'))\n",
    "x = emg[:64]\n",
    "x = torch.from_numpy(x)\n",
    "x.shape"
   ]
  },
  {
   "cell_type": "code",
   "execution_count": 5,
   "metadata": {},
   "outputs": [
    {
     "name": "stdout",
     "output_type": "stream",
     "text": [
      "f_c (64, 5, 32)\n"
     ]
    },
    {
     "data": {
      "text/plain": [
       "(64, 5, 32)"
      ]
     },
     "execution_count": 5,
     "metadata": {},
     "output_type": "execute_result"
    }
   ],
   "source": [
    "root_dir = os.path.join(os.getcwd(), 'Dataset')\n",
    "force_class = np.load(os.path.join(root_dir, 'force_class_train.npy'))\n",
    "print('f_c',force_class[:64].shape)\n",
    "force = np.load(os.path.join(root_dir, 'force_train.npy'))\n",
    "force[:64].shape"
   ]
  },
  {
   "cell_type": "code",
   "execution_count": 9,
   "metadata": {},
   "outputs": [
    {
     "name": "stdout",
     "output_type": "stream",
     "text": [
      "torch.Size([512, 1248]) torch.Size([512, 129, 32])\n"
     ]
    }
   ],
   "source": [
    "hann_window = torch.hann_window(256)\n",
    "x = x.view(64*8, x.size(2))\n",
    "y = torch.stft(x, n_fft=256, \n",
    "                hop_length=32, \n",
    "                win_length=256, \n",
    "                window=hann_window,\n",
    "                center=False, \n",
    "                pad_mode='reflect', \n",
    "                normalized=False, \n",
    "                onesided=True, \n",
    "                return_complex=True).abs()\n",
    "print(x.shape, y.shape)"
   ]
  },
  {
   "cell_type": "code",
   "execution_count": 28,
   "metadata": {},
   "outputs": [
    {
     "data": {
      "text/plain": [
       "torch.Size([64, 8, 32, 64])"
      ]
     },
     "execution_count": 28,
     "metadata": {},
     "output_type": "execute_result"
    }
   ],
   "source": [
    "x = torch.rand((512, 129, 32))\n",
    "x = x.view(64, 8, x.size(1), x.size(2))\n",
    "x = x.transpose(2, 3)[..., :64]\n",
    "x.shape"
   ]
  },
  {
   "cell_type": "code",
   "execution_count": 11,
   "metadata": {},
   "outputs": [
    {
     "name": "stdout",
     "output_type": "stream",
     "text": [
      "f_c (64, 5, 32)\n",
      "torch.Size([64, 2, 5, 32])\n",
      "torch.Size([64, 5, 32])\n"
     ]
    },
    {
     "data": {
      "text/plain": [
       "tensor(0.7209, grad_fn=<NllLoss2DBackward0>)"
      ]
     },
     "execution_count": 11,
     "metadata": {},
     "output_type": "execute_result"
    }
   ],
   "source": [
    "x = torch.rand((64, 32, 32, 1))\n",
    "\n",
    "\n",
    "import torch.nn.functional as F\n",
    "import torch.nn as nn\n",
    "y = x.view(x.size(0), x.size(1), x.size(2))\n",
    "y1 = y.transpose(1, 2)\n",
    "n = nn.Linear(32, 2 * 5)\n",
    "# x = self.linear(x)\n",
    "# x = x.transpose(1, 2)\n",
    "# x = x.view(x.size(0), self.num_force_levels, self.num_forces, x.size(2))\n",
    "y2 = n(y1)\n",
    "y3 = y2.transpose(1,2)\n",
    "y4 = y3.view(y3.size(0), 2, 5, y3.size(2))\n",
    "y4.shape\n",
    "\n",
    "root_dir = os.path.join(os.getcwd(), 'Dataset')\n",
    "force_class = np.load(os.path.join(root_dir, 'force_class_train.npy'))\n",
    "print('f_c',force_class[:64].shape)\n",
    "force = np.load(os.path.join(root_dir, 'force_train.npy'))\n",
    "force[:64].shape\n",
    "print(y4.shape)\n",
    "print(torch.tensor(force_class[:64]).shape)\n",
    "F.cross_entropy(y4, torch.tensor(force_class[:64]))"
   ]
  },
  {
   "cell_type": "code",
   "execution_count": 23,
   "metadata": {},
   "outputs": [
    {
     "name": "stdout",
     "output_type": "stream",
     "text": [
      "[[[0 0 0 0 0 0 0 0 0 0 0 0 0 0 0 0 0 0 0 0 0 0 0 0 0 0 0 0 0 0 0 0]\n",
      "  [1 1 1 1 1 1 1 1 1 1 1 1 1 1 1 1 1 1 1 1 1 1 1 1 1 0 0 0 0 0 0 0]\n",
      "  [0 0 0 0 0 0 0 0 0 0 0 0 0 0 0 0 0 0 0 0 0 0 0 0 0 0 0 0 0 0 0 0]\n",
      "  [0 0 0 0 0 0 0 0 0 0 0 0 0 0 0 0 0 0 0 0 0 0 0 0 0 0 0 0 0 0 0 0]\n",
      "  [0 0 0 0 0 0 0 0 0 0 0 0 0 0 0 0 0 0 0 0 0 0 0 0 0 0 0 0 0 0 0 0]]]\n"
     ]
    }
   ],
   "source": [
    "print(force_class[128:129])"
   ]
  },
  {
   "cell_type": "code",
   "execution_count": 49,
   "metadata": {},
   "outputs": [
    {
     "name": "stdout",
     "output_type": "stream",
     "text": [
      "torch.Size([1, 2]) torch.Size([1])\n"
     ]
    },
    {
     "data": {
      "text/plain": [
       "tensor(0., dtype=torch.float64)"
      ]
     },
     "execution_count": 49,
     "metadata": {},
     "output_type": "execute_result"
    }
   ],
   "source": [
    "a = torch.tensor(np.array([[1.0, 19999999999.0]]))\n",
    "b = torch.tensor(np.array([1]).astype(np.longlong))\n",
    "print(a.shape, b.shape)\n",
    "F.cross_entropy(a, b)"
   ]
  }
 ],
 "metadata": {
  "kernelspec": {
   "display_name": "base",
   "language": "python",
   "name": "python3"
  },
  "language_info": {
   "codemirror_mode": {
    "name": "ipython",
    "version": 3
   },
   "file_extension": ".py",
   "mimetype": "text/x-python",
   "name": "python",
   "nbconvert_exporter": "python",
   "pygments_lexer": "ipython3",
   "version": "3.9.13"
  }
 },
 "nbformat": 4,
 "nbformat_minor": 2
}
